{
  "nbformat": 4,
  "nbformat_minor": 0,
  "metadata": {
    "colab": {
      "provenance": []
    },
    "kernelspec": {
      "name": "python3",
      "display_name": "Python 3"
    },
    "language_info": {
      "name": "python"
    }
  },
  "cells": [
    {
      "cell_type": "markdown",
      "source": [
        "#Python Basic Question\n"
      ],
      "metadata": {
        "id": "4nIGUfWyc_2w"
      }
    },
    {
      "cell_type": "markdown",
      "source": [
        "Q:1: What is python, and why it is popular?\n",
        "  \n",
        "  Ans: Python is a formal programming language for creating instruction for computer to follow, it is a sets of special rules and symbols we you use to give instruction tp a computer. It is popular because it is easy to learn, python widely used in data industry, it also has lots of libraries and huge active community.\n",
        "\n",
        "Q:2: What is an interpreter in python?\n",
        "\n",
        "  Ans: aAn interpreter in python is a program thar reads and executes Python code line by line, converting it into machine understandable instruction.\n",
        "\n",
        "Q:3: What are pre-defined keywors in python?\n",
        "\n",
        "  Ans: In python pre-defined keywords are words that have special meaning in the language. You cannot use them as variable names, function names, or identifiers because python uses them for its syntax and structure.\n",
        "\n",
        "Q:4: Can keywords be used as variable names?\n",
        "  \n",
        "  Ans: No, python keywords cannot be used as variable names. Python keywords are reserved for the language's syntax.\n",
        "\n",
        "Q:5: What is mutability in python?\n",
        "\n",
        "  Ans: Mutability in python refers to object or container whose state or value can be changed after it is created.\n",
        "\n",
        "Q:6: Why are lists Mutable, but Tuples are immutable?\n",
        "\n",
        "  Ans: **Lists** are mutable by design. Lists are buit for dynamic, changing data you often need to add items, remove items, change specific elements.\n",
        "  **Tuples** are immutable by design, tuples are built for fixed collections of items they are often used for coordinates, dates, RGB values. A tuple is like sealed package once packed, you cannot change the contents.\n",
        "\n",
        "Q:7: What is difference betwen \"==\" and \"is\" operators in python?\n",
        "\n",
        "  Ans: \"==\"(Equality)- Checks whether the two values of two objects are equal, it's about what they contains.\n",
        "  \"IS\"(Identity)- Checks whether two variables refer to the exact same object in memory, it's about where they live in memory.\n",
        "\n",
        "Q:8: What are logical operators in python?\n",
        "\n",
        "  Ans: In Python, logical operators are used to combine conditional statements (which return Boolean values: True or False). These operators are primarily used in control flow (like if statements) and expressions that require logical evaluation.\n",
        "\n",
        "Q:9: What is type casting in python?\n",
        "  ANs: It is the process of changing the data type of any value or object.\n",
        "\n",
        "Q:10: What is difference between implicit and explicit type casting?\n",
        "\n",
        "  Ans: Implicit type cating- In Python is the automatic conversion of one data type to another by the Python interpreter, without the programmer needing to specify it manually.\n",
        "  Explicit type casting- when you manually convert a value from one data type to another using built-in functions like int(), float(), str(), etc.\n",
        "\n",
        "Q:11: What is the purpose of conitional statements in python?\n",
        "  Ans: Conditional Statement helps the coder to code decision which based on some prediction such as, IF, IF ELSE, IF ELIF.\n",
        "\n",
        "Q:12: How does the elif statement work?\n",
        "  Ans: The elif statement in Python is short for \"else if\". It is used in conditional branching, allowing you to check multiple conditions after the initial if.\n",
        "\n",
        "Q:13: What is the difference between for and while loops?\n",
        "  Ans: for Loop — Iterates over a sequence\n",
        "  Best when you know in advance how many times to loop (like over a list, range,  string, etc.).\n",
        "  Automatically stops when the sequence ends.\n",
        "\n",
        "  while Loop — Repeats as long as a condition is True\n",
        "  Best when you don’t know beforehand how many times to loop.\n",
        "  You control when it stops with a condition.\n",
        "\n",
        "Q:14:"
      ],
      "metadata": {
        "id": "EzZ7S36CiPUP"
      }
    },
    {
      "cell_type": "code",
      "source": [
        "#1\n",
        "print(\"Hello World\")"
      ],
      "metadata": {
        "colab": {
          "base_uri": "https://localhost:8080/"
        },
        "id": "7zDplUQHcm66",
        "outputId": "23f20281-a9dc-488a-9b4e-40e9bd4c3b44"
      },
      "execution_count": null,
      "outputs": [
        {
          "output_type": "stream",
          "name": "stdout",
          "text": [
            "Hello World\n"
          ]
        }
      ]
    },
    {
      "cell_type": "code",
      "source": [
        "#2\n",
        "name = input(\"please enter your name: \")\n",
        "age =input(\"please enter your age: \")"
      ],
      "metadata": {
        "id": "sJEQM205dYcL",
        "colab": {
          "base_uri": "https://localhost:8080/"
        },
        "outputId": "c3c53b41-e659-45a0-b599-699475edd11a"
      },
      "execution_count": null,
      "outputs": [
        {
          "name": "stdout",
          "output_type": "stream",
          "text": [
            "please enter your name: Sajid\n",
            "please enter your age: 24\n"
          ]
        }
      ]
    },
    {
      "cell_type": "code",
      "source": [
        "#3\n",
        "help(\"keywords\")"
      ],
      "metadata": {
        "colab": {
          "base_uri": "https://localhost:8080/"
        },
        "id": "3ykLAvmDc_at",
        "outputId": "29d50225-40bc-4a7f-c623-0290f676d73e"
      },
      "execution_count": null,
      "outputs": [
        {
          "output_type": "stream",
          "name": "stdout",
          "text": [
            "\n",
            "Here is a list of the Python keywords.  Enter any keyword to get more help.\n",
            "\n",
            "False               class               from                or\n",
            "None                continue            global              pass\n",
            "True                def                 if                  raise\n",
            "and                 del                 import              return\n",
            "as                  elif                in                  try\n",
            "assert              else                is                  while\n",
            "async               except              lambda              with\n",
            "await               finally             nonlocal            yield\n",
            "break               for                 not                 \n",
            "\n"
          ]
        }
      ]
    },
    {
      "cell_type": "code",
      "source": [
        "#4\n",
        "import keyword\n",
        "word = \"is\"\n",
        "if keyword.iskeyword(word):\n",
        "  print(f\"{word} is a keyword\")\n",
        "else:\n",
        "  print(f\"{word} is not a keyword\")\n",
        "\n"
      ],
      "metadata": {
        "colab": {
          "base_uri": "https://localhost:8080/"
        },
        "id": "upmaTmtHc_33",
        "outputId": "1f16e0a1-d881-4248-bd8a-5786f2b57e03"
      },
      "execution_count": null,
      "outputs": [
        {
          "output_type": "stream",
          "name": "stdout",
          "text": [
            "is is a keyword\n"
          ]
        }
      ]
    },
    {
      "cell_type": "code",
      "source": [
        "#5\n",
        "list = [1, 2, 3,]\n",
        "tuple = (4, 5, 6)"
      ],
      "metadata": {
        "id": "oU2V80XWhkYV"
      },
      "execution_count": null,
      "outputs": []
    },
    {
      "cell_type": "code",
      "source": [
        "list"
      ],
      "metadata": {
        "colab": {
          "base_uri": "https://localhost:8080/"
        },
        "id": "nusa7HEzl6lI",
        "outputId": "9e29c871-4627-4c36-c606-edfa0f4f59be"
      },
      "execution_count": null,
      "outputs": [
        {
          "output_type": "execute_result",
          "data": {
            "text/plain": [
              "[1, 2, 3]"
            ]
          },
          "metadata": {},
          "execution_count": 11
        }
      ]
    },
    {
      "cell_type": "code",
      "source": [
        "tuple"
      ],
      "metadata": {
        "colab": {
          "base_uri": "https://localhost:8080/"
        },
        "id": "Vv1eWxatmA1c",
        "outputId": "9f55028e-6574-47c8-ee5b-78948e236030"
      },
      "execution_count": null,
      "outputs": [
        {
          "output_type": "execute_result",
          "data": {
            "text/plain": [
              "(4, 5, 6)"
            ]
          },
          "metadata": {},
          "execution_count": 12
        }
      ]
    },
    {
      "cell_type": "code",
      "source": [
        "list[1]"
      ],
      "metadata": {
        "colab": {
          "base_uri": "https://localhost:8080/"
        },
        "id": "XWhxj8JLmB9E",
        "outputId": "a2284830-7abf-4ecf-b39d-231aceca4c4b"
      },
      "execution_count": null,
      "outputs": [
        {
          "output_type": "execute_result",
          "data": {
            "text/plain": [
              "2"
            ]
          },
          "metadata": {},
          "execution_count": 13
        }
      ]
    },
    {
      "cell_type": "code",
      "source": [
        "list[1]= 80"
      ],
      "metadata": {
        "id": "EOopuy8zmJxq"
      },
      "execution_count": null,
      "outputs": []
    },
    {
      "cell_type": "code",
      "source": [
        "list"
      ],
      "metadata": {
        "colab": {
          "base_uri": "https://localhost:8080/"
        },
        "id": "GukuSR1ImQwF",
        "outputId": "6f04b1ce-f80a-47d9-8152-9b4799a7ed58"
      },
      "execution_count": null,
      "outputs": [
        {
          "output_type": "execute_result",
          "data": {
            "text/plain": [
              "[1, 80, 3]"
            ]
          },
          "metadata": {},
          "execution_count": 15
        }
      ]
    },
    {
      "cell_type": "code",
      "source": [
        "tuple[1]"
      ],
      "metadata": {
        "colab": {
          "base_uri": "https://localhost:8080/"
        },
        "id": "taQNGan2mR7w",
        "outputId": "6eb203da-ecac-46b7-b047-11b11114e173"
      },
      "execution_count": null,
      "outputs": [
        {
          "output_type": "execute_result",
          "data": {
            "text/plain": [
              "5"
            ]
          },
          "metadata": {},
          "execution_count": 17
        }
      ]
    },
    {
      "cell_type": "code",
      "source": [
        "tuple[1]=90"
      ],
      "metadata": {
        "colab": {
          "base_uri": "https://localhost:8080/",
          "height": 146
        },
        "id": "2IWp0VYSmXJE",
        "outputId": "7825cd46-dbd3-41c3-a054-6c8982bd685a"
      },
      "execution_count": null,
      "outputs": [
        {
          "output_type": "error",
          "ename": "TypeError",
          "evalue": "'tuple' object does not support item assignment",
          "traceback": [
            "\u001b[0;31m---------------------------------------------------------------------------\u001b[0m",
            "\u001b[0;31mTypeError\u001b[0m                                 Traceback (most recent call last)",
            "\u001b[0;32m/tmp/ipython-input-2799483967.py\u001b[0m in \u001b[0;36m<cell line: 0>\u001b[0;34m()\u001b[0m\n\u001b[0;32m----> 1\u001b[0;31m \u001b[0mtuple\u001b[0m\u001b[0;34m[\u001b[0m\u001b[0;36m1\u001b[0m\u001b[0;34m]\u001b[0m\u001b[0;34m=\u001b[0m\u001b[0;36m90\u001b[0m\u001b[0;34m\u001b[0m\u001b[0;34m\u001b[0m\u001b[0m\n\u001b[0m",
            "\u001b[0;31mTypeError\u001b[0m: 'tuple' object does not support item assignment"
          ]
        }
      ]
    },
    {
      "cell_type": "code",
      "source": [
        "tuple"
      ],
      "metadata": {
        "colab": {
          "base_uri": "https://localhost:8080/"
        },
        "id": "eVR1-WaPmf8J",
        "outputId": "3e3e0c00-bafc-436f-a908-74345c93e5ea"
      },
      "execution_count": null,
      "outputs": [
        {
          "output_type": "execute_result",
          "data": {
            "text/plain": [
              "(4, 5, 6)"
            ]
          },
          "metadata": {},
          "execution_count": 19
        }
      ]
    },
    {
      "cell_type": "code",
      "source": [],
      "metadata": {
        "id": "BbwtcZ22nvhe"
      },
      "execution_count": null,
      "outputs": []
    },
    {
      "cell_type": "code",
      "source": [
        "#6\n",
        "#immutability\n",
        "a = \"Sajid\"\n",
        "a"
      ],
      "metadata": {
        "colab": {
          "base_uri": "https://localhost:8080/",
          "height": 36
        },
        "id": "TrJ85uxwmiGf",
        "outputId": "8572e373-5ef1-4ebd-ea28-9c67fb217427"
      },
      "execution_count": null,
      "outputs": [
        {
          "output_type": "execute_result",
          "data": {
            "text/plain": [
              "'Sajid'"
            ],
            "application/vnd.google.colaboratory.intrinsic+json": {
              "type": "string"
            }
          },
          "metadata": {},
          "execution_count": 21
        }
      ]
    },
    {
      "cell_type": "code",
      "source": [
        "a[0]"
      ],
      "metadata": {
        "colab": {
          "base_uri": "https://localhost:8080/",
          "height": 36
        },
        "id": "S41crNkfndNK",
        "outputId": "ee79c8ff-842a-4ba8-98b9-6c3bc1b7614b"
      },
      "execution_count": null,
      "outputs": [
        {
          "output_type": "execute_result",
          "data": {
            "text/plain": [
              "'S'"
            ],
            "application/vnd.google.colaboratory.intrinsic+json": {
              "type": "string"
            }
          },
          "metadata": {},
          "execution_count": 22
        }
      ]
    },
    {
      "cell_type": "code",
      "source": [
        "a[0]= f"
      ],
      "metadata": {
        "colab": {
          "base_uri": "https://localhost:8080/",
          "height": 146
        },
        "id": "wF7LsPgqnmfp",
        "outputId": "9d87f605-cc9c-41bc-af02-de0564101976"
      },
      "execution_count": null,
      "outputs": [
        {
          "output_type": "error",
          "ename": "NameError",
          "evalue": "name 'f' is not defined",
          "traceback": [
            "\u001b[0;31m---------------------------------------------------------------------------\u001b[0m",
            "\u001b[0;31mNameError\u001b[0m                                 Traceback (most recent call last)",
            "\u001b[0;32m/tmp/ipython-input-129269671.py\u001b[0m in \u001b[0;36m<cell line: 0>\u001b[0;34m()\u001b[0m\n\u001b[0;32m----> 1\u001b[0;31m \u001b[0ma\u001b[0m\u001b[0;34m[\u001b[0m\u001b[0;36m0\u001b[0m\u001b[0;34m]\u001b[0m\u001b[0;34m=\u001b[0m \u001b[0mf\u001b[0m\u001b[0;34m\u001b[0m\u001b[0;34m\u001b[0m\u001b[0m\n\u001b[0m",
            "\u001b[0;31mNameError\u001b[0m: name 'f' is not defined"
          ]
        }
      ]
    },
    {
      "cell_type": "code",
      "source": [
        "#Mutablility\n",
        "list = [1, 2, 3+5j, True, \"Sajid\"]\n",
        "list"
      ],
      "metadata": {
        "colab": {
          "base_uri": "https://localhost:8080/"
        },
        "id": "_yGQfaVFnsdd",
        "outputId": "4b7ad51a-0f83-46a4-b76b-e7f55f90c63e"
      },
      "execution_count": null,
      "outputs": [
        {
          "output_type": "execute_result",
          "data": {
            "text/plain": [
              "[1, 2, (3+5j), True, 'Sajid']"
            ]
          },
          "metadata": {},
          "execution_count": 25
        }
      ]
    },
    {
      "cell_type": "code",
      "source": [
        "list[0]"
      ],
      "metadata": {
        "colab": {
          "base_uri": "https://localhost:8080/"
        },
        "id": "mHjpHMTsoCd_",
        "outputId": "a9734976-46f7-4d99-a417-2724ba016e47"
      },
      "execution_count": null,
      "outputs": [
        {
          "output_type": "execute_result",
          "data": {
            "text/plain": [
              "1"
            ]
          },
          "metadata": {},
          "execution_count": 26
        }
      ]
    },
    {
      "cell_type": "code",
      "source": [
        "list[0]=5"
      ],
      "metadata": {
        "id": "xsidrJkroHbL"
      },
      "execution_count": null,
      "outputs": []
    },
    {
      "cell_type": "code",
      "source": [
        "list"
      ],
      "metadata": {
        "colab": {
          "base_uri": "https://localhost:8080/"
        },
        "id": "t_wyZC6loKqc",
        "outputId": "8069cd27-6b3a-467e-a0d0-fbd9ed849446"
      },
      "execution_count": null,
      "outputs": [
        {
          "output_type": "execute_result",
          "data": {
            "text/plain": [
              "[5, 2, (3+5j), True, 'Sajid']"
            ]
          },
          "metadata": {},
          "execution_count": 28
        }
      ]
    },
    {
      "cell_type": "code",
      "source": [],
      "metadata": {
        "id": "Ew478YuYoLjt"
      },
      "execution_count": null,
      "outputs": []
    },
    {
      "cell_type": "code",
      "source": [
        "#7\n",
        "#arithmetic operators\n",
        "a = 5\n",
        "b = 4\n",
        "add = a+b"
      ],
      "metadata": {
        "id": "9ZNmJSZxpfRG"
      },
      "execution_count": null,
      "outputs": []
    },
    {
      "cell_type": "code",
      "source": [
        "add"
      ],
      "metadata": {
        "colab": {
          "base_uri": "https://localhost:8080/"
        },
        "id": "WF_4aHatp-P6",
        "outputId": "65ba3227-cbbc-4a92-e275-e5adc3a6595e"
      },
      "execution_count": null,
      "outputs": [
        {
          "output_type": "execute_result",
          "data": {
            "text/plain": [
              "9"
            ]
          },
          "metadata": {},
          "execution_count": 30
        }
      ]
    },
    {
      "cell_type": "code",
      "source": [
        "num1 = input(\"please enter first number: \")\n",
        "num2 = input(\"please enter second number: \")\n",
        "add = int(num1)+int(num2)"
      ],
      "metadata": {
        "colab": {
          "base_uri": "https://localhost:8080/"
        },
        "id": "jwPrADeZp_TI",
        "outputId": "8d176592-3f4d-4851-930d-b74ea980c532"
      },
      "execution_count": null,
      "outputs": [
        {
          "name": "stdout",
          "output_type": "stream",
          "text": [
            "please enter first number: 5\n",
            "please enter second number: 7\n"
          ]
        }
      ]
    },
    {
      "cell_type": "code",
      "source": [
        "add"
      ],
      "metadata": {
        "colab": {
          "base_uri": "https://localhost:8080/"
        },
        "id": "qhuQ_J49qSTz",
        "outputId": "e76792c6-3a40-4b32-e86d-83f07cfa7625"
      },
      "execution_count": null,
      "outputs": [
        {
          "output_type": "execute_result",
          "data": {
            "text/plain": [
              "12"
            ]
          },
          "metadata": {},
          "execution_count": 33
        }
      ]
    },
    {
      "cell_type": "code",
      "source": [],
      "metadata": {
        "id": "kRVP2fLwqby0"
      },
      "execution_count": null,
      "outputs": []
    },
    {
      "cell_type": "code",
      "source": [
        "#8\n",
        "#logical operators\n",
        "True and False"
      ],
      "metadata": {
        "colab": {
          "base_uri": "https://localhost:8080/"
        },
        "id": "0FMy8RMjq-VX",
        "outputId": "25befdae-4cd7-44e4-c79f-ce68c2fddd62"
      },
      "execution_count": null,
      "outputs": [
        {
          "output_type": "execute_result",
          "data": {
            "text/plain": [
              "False"
            ]
          },
          "metadata": {},
          "execution_count": 34
        }
      ]
    },
    {
      "cell_type": "code",
      "source": [
        "1 and 0"
      ],
      "metadata": {
        "colab": {
          "base_uri": "https://localhost:8080/"
        },
        "id": "-BLG5BiQr4mq",
        "outputId": "67473300-42f2-423f-b721-62f05caf5378"
      },
      "execution_count": null,
      "outputs": [
        {
          "output_type": "execute_result",
          "data": {
            "text/plain": [
              "0"
            ]
          },
          "metadata": {},
          "execution_count": 36
        }
      ]
    },
    {
      "cell_type": "code",
      "source": [
        "True and True"
      ],
      "metadata": {
        "colab": {
          "base_uri": "https://localhost:8080/"
        },
        "id": "cJd0jT60r6KA",
        "outputId": "a9281da4-3bdc-4d99-ac09-940755240ff3"
      },
      "execution_count": null,
      "outputs": [
        {
          "output_type": "execute_result",
          "data": {
            "text/plain": [
              "True"
            ]
          },
          "metadata": {},
          "execution_count": 37
        }
      ]
    },
    {
      "cell_type": "code",
      "source": [
        "1 and 1"
      ],
      "metadata": {
        "colab": {
          "base_uri": "https://localhost:8080/"
        },
        "id": "VL1gpouYr_0l",
        "outputId": "1647efa4-539c-4e02-9c6a-41caedb69086"
      },
      "execution_count": null,
      "outputs": [
        {
          "output_type": "execute_result",
          "data": {
            "text/plain": [
              "1"
            ]
          },
          "metadata": {},
          "execution_count": 38
        }
      ]
    },
    {
      "cell_type": "code",
      "source": [
        "True or False"
      ],
      "metadata": {
        "colab": {
          "base_uri": "https://localhost:8080/"
        },
        "id": "MmfMxl0SsBAM",
        "outputId": "f9123401-a1bd-4efb-b2fa-0708df1f590b"
      },
      "execution_count": null,
      "outputs": [
        {
          "output_type": "execute_result",
          "data": {
            "text/plain": [
              "True"
            ]
          },
          "metadata": {},
          "execution_count": 39
        }
      ]
    },
    {
      "cell_type": "code",
      "source": [
        "1 or 0"
      ],
      "metadata": {
        "colab": {
          "base_uri": "https://localhost:8080/"
        },
        "id": "de1VkvZ6sD11",
        "outputId": "4dd0764d-1165-422a-835f-baf7123a7f49"
      },
      "execution_count": null,
      "outputs": [
        {
          "output_type": "execute_result",
          "data": {
            "text/plain": [
              "1"
            ]
          },
          "metadata": {},
          "execution_count": 40
        }
      ]
    },
    {
      "cell_type": "code",
      "source": [
        "False or False"
      ],
      "metadata": {
        "colab": {
          "base_uri": "https://localhost:8080/"
        },
        "id": "AKUOyHSnsFTK",
        "outputId": "2508e3fe-fd32-4834-d617-244aa2b35e50"
      },
      "execution_count": null,
      "outputs": [
        {
          "output_type": "execute_result",
          "data": {
            "text/plain": [
              "False"
            ]
          },
          "metadata": {},
          "execution_count": 41
        }
      ]
    },
    {
      "cell_type": "code",
      "source": [
        "0 or 0"
      ],
      "metadata": {
        "colab": {
          "base_uri": "https://localhost:8080/"
        },
        "id": "wbMscRXosMGE",
        "outputId": "314ea266-3c82-4fd9-8f9d-e65b9987b0f7"
      },
      "execution_count": null,
      "outputs": [
        {
          "output_type": "execute_result",
          "data": {
            "text/plain": [
              "0"
            ]
          },
          "metadata": {},
          "execution_count": 42
        }
      ]
    },
    {
      "cell_type": "code",
      "source": [],
      "metadata": {
        "id": "ZDFl5lOjsNDc"
      },
      "execution_count": null,
      "outputs": []
    },
    {
      "cell_type": "code",
      "source": [
        "#9\n",
        "a = \"9\"\n",
        "a"
      ],
      "metadata": {
        "colab": {
          "base_uri": "https://localhost:8080/",
          "height": 36
        },
        "id": "jQFM1WlEsOl7",
        "outputId": "64826cf2-8d66-4e37-fb92-fd8024b79807"
      },
      "execution_count": null,
      "outputs": [
        {
          "output_type": "execute_result",
          "data": {
            "text/plain": [
              "'9'"
            ],
            "application/vnd.google.colaboratory.intrinsic+json": {
              "type": "string"
            }
          },
          "metadata": {},
          "execution_count": 48
        }
      ]
    },
    {
      "cell_type": "code",
      "source": [
        "type(a)"
      ],
      "metadata": {
        "colab": {
          "base_uri": "https://localhost:8080/"
        },
        "id": "cYgDoY5Ns3Qu",
        "outputId": "2e855f8f-3337-4c96-a726-cf07a4b45a95"
      },
      "execution_count": null,
      "outputs": [
        {
          "output_type": "execute_result",
          "data": {
            "text/plain": [
              "str"
            ]
          },
          "metadata": {},
          "execution_count": 49
        }
      ]
    },
    {
      "cell_type": "code",
      "source": [
        "int(a)"
      ],
      "metadata": {
        "colab": {
          "base_uri": "https://localhost:8080/"
        },
        "id": "vZoBTaBFs6oJ",
        "outputId": "9504ec5e-bc98-4f1b-b0b1-a14eb35578df"
      },
      "execution_count": null,
      "outputs": [
        {
          "output_type": "execute_result",
          "data": {
            "text/plain": [
              "9"
            ]
          },
          "metadata": {},
          "execution_count": 50
        }
      ]
    },
    {
      "cell_type": "code",
      "source": [
        "#string to integer\n",
        "a = \"9\"\n",
        "print(type(a))\n",
        "print(type(int(a)))"
      ],
      "metadata": {
        "colab": {
          "base_uri": "https://localhost:8080/"
        },
        "id": "HfBWVenms9WO",
        "outputId": "50747c42-e95d-44d0-c402-154f1dfa9c60"
      },
      "execution_count": null,
      "outputs": [
        {
          "output_type": "stream",
          "name": "stdout",
          "text": [
            "<class 'str'>\n",
            "<class 'int'>\n"
          ]
        }
      ]
    },
    {
      "cell_type": "code",
      "source": [
        "#string to Float\n",
        "a = \"9\"\n",
        "print(type(a))\n",
        "print(type(float(a)))\n",
        "float(a)"
      ],
      "metadata": {
        "colab": {
          "base_uri": "https://localhost:8080/"
        },
        "id": "SFs6coFsuBvN",
        "outputId": "39b90ac8-a50c-4eb2-ce33-8c12a888bb38"
      },
      "execution_count": null,
      "outputs": [
        {
          "output_type": "stream",
          "name": "stdout",
          "text": [
            "<class 'str'>\n",
            "<class 'float'>\n"
          ]
        },
        {
          "output_type": "execute_result",
          "data": {
            "text/plain": [
              "9.0"
            ]
          },
          "metadata": {},
          "execution_count": 58
        }
      ]
    },
    {
      "cell_type": "code",
      "source": [
        "#string to boolean\n",
        "a =\"9\"\n",
        "print(type(a))\n",
        "print(type(bool(a)))\n",
        "bool(a)"
      ],
      "metadata": {
        "colab": {
          "base_uri": "https://localhost:8080/"
        },
        "id": "lFG7xOBN08Z4",
        "outputId": "2f44d45b-6bf0-4d56-d5a4-daa309e817d2"
      },
      "execution_count": null,
      "outputs": [
        {
          "output_type": "stream",
          "name": "stdout",
          "text": [
            "<class 'str'>\n",
            "<class 'bool'>\n"
          ]
        },
        {
          "output_type": "execute_result",
          "data": {
            "text/plain": [
              "True"
            ]
          },
          "metadata": {},
          "execution_count": 59
        }
      ]
    },
    {
      "cell_type": "code",
      "source": [],
      "metadata": {
        "id": "UqD4VClL0_Rc"
      },
      "execution_count": null,
      "outputs": []
    },
    {
      "cell_type": "code",
      "source": [
        "#10\n",
        "a = [\"1\", \"2\", \"3\", \"4\"]\n",
        "a"
      ],
      "metadata": {
        "colab": {
          "base_uri": "https://localhost:8080/"
        },
        "id": "uuOxDta_15vF",
        "outputId": "a130c588-8fc3-4453-d0a4-50f9c7d2f61f"
      },
      "execution_count": null,
      "outputs": [
        {
          "output_type": "execute_result",
          "data": {
            "text/plain": [
              "['1', '2', '3', '4']"
            ]
          },
          "metadata": {},
          "execution_count": 2
        }
      ]
    },
    {
      "cell_type": "code",
      "source": [
        "list(map(int,a))"
      ],
      "metadata": {
        "colab": {
          "base_uri": "https://localhost:8080/"
        },
        "id": "CyMWOlc12xqY",
        "outputId": "01309f19-6d12-41ad-dcf9-8ad136197b9e"
      },
      "execution_count": null,
      "outputs": [
        {
          "output_type": "execute_result",
          "data": {
            "text/plain": [
              "[1, 2, 3, 4]"
            ]
          },
          "metadata": {},
          "execution_count": 3
        }
      ]
    },
    {
      "cell_type": "code",
      "source": [
        "int(str_list[1])"
      ],
      "metadata": {
        "colab": {
          "base_uri": "https://localhost:8080/"
        },
        "id": "rNM5TyHi22F7",
        "outputId": "ae24e108-4743-4857-acbc-810a20f0b23d"
      },
      "execution_count": null,
      "outputs": [
        {
          "output_type": "execute_result",
          "data": {
            "text/plain": [
              "2"
            ]
          },
          "metadata": {},
          "execution_count": 91
        }
      ]
    },
    {
      "cell_type": "code",
      "source": [
        "#11\n",
        "a = int(input(\"Enter a number:\"))\n",
        "if (a > 0):\n",
        "  print(\"Number is positive\")\n",
        "elif (a < 0):\n",
        "  print(\"Number is negative\")\n",
        "else:\n",
        "  print(\"Number is zero\")\n"
      ],
      "metadata": {
        "id": "xhxer0702_EH",
        "colab": {
          "base_uri": "https://localhost:8080/"
        },
        "outputId": "36362889-a53c-44cb-92c9-6a0d07bfc011"
      },
      "execution_count": 4,
      "outputs": [
        {
          "output_type": "stream",
          "name": "stdout",
          "text": [
            "Enter a number:32\n",
            "Number is positive\n"
          ]
        }
      ]
    },
    {
      "cell_type": "code",
      "source": [],
      "metadata": {
        "id": "rwC44XtKjhuD"
      },
      "execution_count": null,
      "outputs": []
    },
    {
      "cell_type": "code",
      "source": [
        "#12\n",
        "for i in range(0 ,10):\n",
        "  print(i, end=\" \")"
      ],
      "metadata": {
        "colab": {
          "base_uri": "https://localhost:8080/"
        },
        "id": "bkhtVp7z59LZ",
        "outputId": "d1933f56-3f4d-4599-909d-dcd64587d359"
      },
      "execution_count": 5,
      "outputs": [
        {
          "output_type": "stream",
          "name": "stdout",
          "text": [
            "0 1 2 3 4 5 6 7 8 9 "
          ]
        }
      ]
    },
    {
      "cell_type": "code",
      "source": [],
      "metadata": {
        "id": "bEYEnFus6oPy"
      },
      "execution_count": null,
      "outputs": []
    },
    {
      "cell_type": "code",
      "source": [
        "#13\n",
        "n = 0\n",
        "for i in range(1, 51):\n",
        "  if i%2==0:\n",
        "    n = n+i\n",
        "print(n)"
      ],
      "metadata": {
        "colab": {
          "base_uri": "https://localhost:8080/"
        },
        "id": "iHetKt4njjsA",
        "outputId": "60af5d0c-2701-4fb9-f03c-e64d53aedaca"
      },
      "execution_count": 9,
      "outputs": [
        {
          "output_type": "stream",
          "name": "stdout",
          "text": [
            "650\n"
          ]
        }
      ]
    },
    {
      "cell_type": "code",
      "source": [],
      "metadata": {
        "id": "hQ16QAwMjl6a"
      },
      "execution_count": null,
      "outputs": []
    },
    {
      "cell_type": "code",
      "source": [
        "#14\n",
        "x = input(\"Enter your string: \")\n",
        "y = \"\"\n",
        "i = len(x)-1\n",
        "while(i>=0):\n",
        "  y = y+x[i]\n",
        "  i = i-1\n",
        "print(y)"
      ],
      "metadata": {
        "colab": {
          "base_uri": "https://localhost:8080/"
        },
        "id": "ztAIw6i_wwic",
        "outputId": "509f6350-0fca-4644-9751-2b2b552d00c4"
      },
      "execution_count": 13,
      "outputs": [
        {
          "output_type": "stream",
          "name": "stdout",
          "text": [
            "Enter your string: Darling\n",
            "gnilraD\n"
          ]
        }
      ]
    },
    {
      "cell_type": "code",
      "source": [],
      "metadata": {
        "id": "ySzGVYTIwwON"
      },
      "execution_count": 13,
      "outputs": []
    },
    {
      "cell_type": "code",
      "source": [
        "#15\n",
        "num = int(input(\"Enter a number: \"))\n",
        "fact = 1\n",
        "while(num>1):\n",
        "  fact = fact*num\n",
        "  num = num-1\n",
        "print(fact)"
      ],
      "metadata": {
        "colab": {
          "base_uri": "https://localhost:8080/"
        },
        "id": "__-sMFbJtZ8M",
        "outputId": "96d03fcc-f459-49e1-b5ce-1377f153d9cb"
      },
      "execution_count": 12,
      "outputs": [
        {
          "output_type": "stream",
          "name": "stdout",
          "text": [
            "Enter a number: 5\n",
            "120\n"
          ]
        }
      ]
    },
    {
      "cell_type": "code",
      "source": [],
      "metadata": {
        "id": "y85LYl7st9k_"
      },
      "execution_count": 12,
      "outputs": []
    }
  ]
}